{
 "cells": [
  {
   "cell_type": "code",
   "execution_count": null,
   "id": "5de0a19b",
   "metadata": {},
   "outputs": [],
   "source": [
    "#librerias para el tratamiento de la API, transformacion en data frame, y tratamiento de fechas\n",
    "import requests\n",
    "import pandas as pd\n",
    "from datetime import datetime, timedelta\n",
    "\n",
    "#librerias para conectar la tabla con redshift\n",
    "import psycopg2\n",
    "\n",
    "#libreria para tratar las credenciales\n",
    "import json\n"
   ]
  },
  {
   "cell_type": "code",
   "execution_count": null,
   "id": "8191f392",
   "metadata": {},
   "outputs": [],
   "source": [
    "# Leer el archivo de credenciales\n",
    "with open('credentials.json') as file:\n",
    "    credentials = json.load(file)"
   ]
  },
  {
   "cell_type": "code",
   "execution_count": null,
   "id": "361da84e",
   "metadata": {},
   "outputs": [],
   "source": [
    "#Parametros de la busqueda\n",
    "\n",
    "query = 'ucrania OR ukraine OR Украина' #palabras clave para efectuar la busqueda en API\n",
    "today = datetime.today()\n",
    "yesterday = today - timedelta(days=1) # Obtener la fecha del dia de ayer\n",
    "from_date = yesterday.strftime('%Y-%m-%d')\n",
    "results_limit = 100 \n",
    "api_key = credentials['api_key']\n",
    "languages = ['ar', 'de','es', 'en', 'fr','ru', 'it']\n",
    "\n",
    "# Funcion para realizar la conexion a la API\n",
    "def get_articles(url):\n",
    "    try:\n",
    "        response = requests.get(url)\n",
    "        response.raise_for_status()\n",
    "    except requests.exceptions.RequestException as e:\n",
    "        print('Error al conectarse a la API:', e)\n",
    "        return []\n",
    "    else:\n",
    "        data = response.json()\n",
    "        articles = data['articles']\n",
    "        return articles\n",
    "\n",
    "# Crear una lista de diccionarios con los datos de cada artículo.\n",
    "articles_list = []\n",
    "for lang in languages:\n",
    "    url = f\"https://newsapi.org/v2/everything?q={query}&language={lang}&from={from_date}&pageSize={results_limit}&apiKey={api_key}\"\n",
    "    articles = get_articles(url)\n",
    "    for article in articles:\n",
    "        article_data = {\n",
    "            'author': article['author'],\n",
    "            'title': article['title'],\n",
    "            'description': article['description'],\n",
    "            'url': article['url'],\n",
    "            'publishedAt': article['publishedAt'],\n",
    "            'source': article['source']['name'],\n",
    "            'language': lang\n",
    "                        }\n",
    "        articles_list.append(article_data)\n"
   ]
  },
  {
   "cell_type": "code",
   "execution_count": null,
   "id": "dd1fb665",
   "metadata": {},
   "outputs": [],
   "source": [
    "#convertir la lista de diccionarios en un DataFrame\n",
    "df = pd.DataFrame(articles_list)"
   ]
  },
  {
   "cell_type": "code",
   "execution_count": null,
   "id": "51f3cd72",
   "metadata": {},
   "outputs": [],
   "source": [
    "#Ver el DF\n",
    "df"
   ]
  },
  {
   "cell_type": "code",
   "execution_count": null,
   "id": "1e04517c",
   "metadata": {},
   "outputs": [],
   "source": [
    "# Realizar conexion a Redshift mediante psycopg2\n",
    "try:\n",
    "    conn = psycopg2.connect(\n",
    "    host='data-engineer-cluster.cyhh5bfevlmn.us-east-1.redshift.amazonaws.com',\n",
    "    dbname=credentials['db_username'],\n",
    "    user=credentials['db_password'],\n",
    "    password='qjA21aB81Y',\n",
    "    port='5439'\n",
    ")\n",
    "    print(\"Conexion con Redshift exitosa\")\n",
    "    \n",
    "except Exception as e:\n",
    "    print(\"Error al conectar con Redshift\")\n",
    "    print(e)\n"
   ]
  },
  {
   "cell_type": "code",
   "execution_count": null,
   "id": "44b1360b",
   "metadata": {},
   "outputs": [],
   "source": [
    "# Crear un cursor para ejecutar sentencias SQL\n",
    "cur = conn.cursor()"
   ]
  },
  {
   "cell_type": "code",
   "execution_count": null,
   "id": "62449eb5",
   "metadata": {},
   "outputs": [],
   "source": [
    "# Eliminar la tabla si ya existe. Ejecutar solo en caso de error\n",
    "#cur.execute('DROP TABLE IF EXISTS news_articles')\n",
    "\n",
    "# Crear una tabla en Redshift, en caso de que no exista\n",
    "table_name = 'news_articles'\n",
    "cur.execute(f'''\n",
    "CREATE TABLE IF NOT EXISTS {table_name} (\n",
    "    author NVARCHAR(1000),\n",
    "    title NVARCHAR(1000),\n",
    "    description NVARCHAR(1000),\n",
    "    url NVARCHAR(1000),\n",
    "    published_at TIMESTAMP,\n",
    "    source NVARCHAR(1000),\n",
    "    language VARCHAR(2)\n",
    ");\n",
    "''')\n",
    "\n"
   ]
  },
  {
   "cell_type": "code",
   "execution_count": null,
   "id": "b9cb421f",
   "metadata": {},
   "outputs": [],
   "source": [
    "# Insertar los datos obtenidos de la API en la tabla\n",
    "for article in articles_list:\n",
    "    cur.execute(f'''\n",
    "        INSERT INTO {table_name} (author,title, description, url, published_at, source, language)\n",
    "        VALUES (\n",
    "            %s, %s, %s, %s, %s, %s, %s\n",
    "        );\n",
    "    ''', (\n",
    "        article['author'],\n",
    "        article['title'],\n",
    "        article['description'],\n",
    "        article['url'],\n",
    "        article['publishedAt'],\n",
    "        article['source'],\n",
    "        article['language']\n",
    "    ))\n",
    "# Hacer commit de la transacción y cerrar la conexión\n",
    "conn.commit()\n",
    "conn.close()\n",
    "\n"
   ]
  },
  {
   "cell_type": "code",
   "execution_count": null,
   "id": "da0213b4",
   "metadata": {},
   "outputs": [],
   "source": [
    "#En caso de que el codigo para insertar los datos en la tabla de redshift fallen, ejecuto:\n",
    "#cur.execute('ROLLBACK')\n"
   ]
  },
  {
   "cell_type": "code",
   "execution_count": null,
   "id": "2a7cedc5",
   "metadata": {},
   "outputs": [],
   "source": []
  }
 ],
 "metadata": {
  "kernelspec": {
   "display_name": "Python 3 (ipykernel)",
   "language": "python",
   "name": "python3"
  },
  "language_info": {
   "codemirror_mode": {
    "name": "ipython",
    "version": 3
   },
   "file_extension": ".py",
   "mimetype": "text/x-python",
   "name": "python",
   "nbconvert_exporter": "python",
   "pygments_lexer": "ipython3",
   "version": "3.10.5"
  }
 },
 "nbformat": 4,
 "nbformat_minor": 5
}
